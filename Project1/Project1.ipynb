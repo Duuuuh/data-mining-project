{
 "cells": [
  {
   "cell_type": "markdown",
   "metadata": {},
   "source": [
    "# 题目\n",
    "Compute the multivariate mean vector.\n",
    "\n",
    "Compute the sample covariance matrix as inner products between the columns of thecentered data matrix.\n",
    "\n",
    "Compute the sample covariance matrix as outer product between the centered datapoints.\n",
    "\n",
    "Compute the correlation between Attributes 1 and 2 by computing the cosine of the anglebetween the centered attribute vectors. Plot the scatter plot between these two attributes.\n",
    "\n",
    "Assuming that Attribute 1 is normally distributed, plot its probability density functions.\n",
    "\n",
    "Which attribute has the largest variance, and which attribute has the smallest variance?Print these values.\n",
    "\n",
    "Which pair of attributes has the largest covariance, and which pair of attributes has thesmallest covariance? Print these values."
   ]
  },
  {
   "cell_type": "markdown",
   "metadata": {},
   "source": [
    "# 读取并查看数据\n",
    "查阅数据信息得知，数据集共11种属性，前10为数字，11为标记。\n",
    " 1.  fLength:  continuous  # major axis of ellipse [mm]\n",
    " 2.  fWidth:   continuous  # minor axis of ellipse [mm] \n",
    " 3.  fSize:    continuous  # 10-log of sum of content of all pixels [in #phot]\n",
    " 4.  fConc:    continuous  # ratio of sum of two highest pixels over fSize  [ratio]\n",
    " 5.  fConc1:   continuous  # ratio of highest pixel over fSize  [ratio]\n",
    " 6.  fAsym:    continuous  # distance from highest pixel to center, projected onto major axis [mm]\n",
    " 7.  fM3Long:  continuous  # 3rd root of third moment along major axis  [mm] \n",
    " 8.  fM3Trans: continuous  # 3rd root of third moment along minor axis  [mm]\n",
    " 9.  fAlpha:   continuous  # angle of major axis with vector to origin [deg]\n",
    " 10.  fDist:    continuous  # distance from origin to center of ellipse [mm]\n",
    " 11.  class:    g,h         # gamma (signal), hadron (background)\n",
    "原数据没有列标题，为其加上列名"
   ]
  },
  {
   "cell_type": "code",
   "execution_count": 1,
   "metadata": {},
   "outputs": [
    {
     "name": "stdout",
     "output_type": "stream",
     "text": [
      "        fLength    fWidth   fSize   fConc   fConc1     fAsym   fM3Long  \\\n",
      "0       28.7967   16.0021  2.6449  0.3918   0.1982   27.7004   22.0110   \n",
      "1       31.6036   11.7235  2.5185  0.5303   0.3773   26.2722   23.8238   \n",
      "2      162.0520  136.0310  4.0612  0.0374   0.0187  116.7410  -64.8580   \n",
      "3       23.8172    9.5728  2.3385  0.6147   0.3922   27.2107   -6.4633   \n",
      "4       75.1362   30.9205  3.1611  0.3168   0.1832   -5.5277   28.5525   \n",
      "...         ...       ...     ...     ...      ...       ...       ...   \n",
      "19015   21.3846   10.9170  2.6161  0.5857   0.3934   15.2618   11.5245   \n",
      "19016   28.9452    6.7020  2.2672  0.5351   0.2784   37.0816   13.1853   \n",
      "19017   75.4455   47.5305  3.4483  0.1417   0.0549   -9.3561   41.0562   \n",
      "19018  120.5135   76.9018  3.9939  0.0944   0.0683    5.8043  -93.5224   \n",
      "19019  187.1814   53.0014  3.2093  0.2876   0.1539 -167.3125 -168.4558   \n",
      "\n",
      "       fM3Trans   fAlpha     fDist class  \n",
      "0       -8.2027  40.0920   81.8828     g  \n",
      "1       -9.9574   6.3609  205.2610     g  \n",
      "2      -45.2160  76.9600  256.7880     g  \n",
      "3       -7.1513  10.4490  116.7370     g  \n",
      "4       21.8393   4.6480  356.4620     g  \n",
      "...         ...      ...       ...   ...  \n",
      "19015    2.8766   2.4229  106.8258     h  \n",
      "19016   -2.9632  86.7975  247.4560     h  \n",
      "19017   -9.4662  30.2987  256.5166     h  \n",
      "19018  -63.8389  84.6874  408.3166     h  \n",
      "19019   31.4755  52.7310  272.3174     h  \n",
      "\n",
      "[19020 rows x 11 columns]\n"
     ]
    }
   ],
   "source": [
    "import numpy as np\n",
    "import pandas as pd\n",
    "\n",
    "filepath = \"C:\\\\Users\\\\Shinelon\\\\Desktop\\\\data-mining  project\\\\Project1\\\\magic04.data\"\n",
    "df = pd.read_csv(filepath,header=None , names = ['fLength','fWidth','fSize','fConc',' fConc1',\n",
    "                                 'fAsym','fM3Long','fM3Trans','fAlpha','fDist','class'])\n",
    "print(df)\n"
   ]
  },
  {
   "cell_type": "markdown",
   "metadata": {},
   "source": [
    "# 计算多元均值\n",
    "df.iloc()用来选取数据前十列\n",
    "用mean（）函数计算每列均值得到结果\n",
    "fLength      53.250154\n",
    "fWidth       22.180966\n",
    "fSize         2.825017\n",
    "fConc         0.380327\n",
    " fConc1       0.214657\n",
    "fAsym        -4.331745\n",
    "fM3Long      10.545545\n",
    "fM3Trans      0.249726\n",
    "fAlpha       27.645707\n",
    "fDist       193.818026"
   ]
  },
  {
   "cell_type": "code",
   "execution_count": 49,
   "metadata": {},
   "outputs": [
    {
     "name": "stdout",
     "output_type": "stream",
     "text": [
      "fLength      53.250154\n",
      "fWidth       22.180966\n",
      "fSize         2.825017\n",
      "fConc         0.380327\n",
      " fConc1       0.214657\n",
      "fAsym        -4.331745\n",
      "fM3Long      10.545545\n",
      "fM3Trans      0.249726\n",
      "fAlpha       27.645707\n",
      "fDist       193.818026\n",
      "dtype: float64\n"
     ]
    }
   ],
   "source": [
    "df=df.iloc[:,[0,1,2,3,4,5,6,7,8,9]]  #排除class\n",
    "m = df.mean(axis = 0)\n",
    "print(m)"
   ]
  },
  {
   "cell_type": "markdown",
   "metadata": {},
   "source": [
    "# 样本协方差矩阵的内积\n",
    "## 矩阵中性化\n",
    "\n",
    "将数据减去每列均值得到中心化矩阵，中心化是一个平移过程，平移后所有数据的中心是（0，0）。\n",
    "![image.png](中心化-1.png)\n",
    "\n",
    "## 协方差矩阵\n",
    "协方差的计算公式被定义为\n",
    "\n",
    "![Image of Yaktocat](https://www.zhihu.com/equation?tex=%5Csigma%5Cleft%28x%2Cy%5Cright%29%3D%5Cfrac%7B1%7D%7Bn-1%7D%5Csum_%7Bi%3D1%7D%5E%7Bn%7D%5Cleft%28x_i-%5Cbar%7Bx%7D%5Cright%29%5Cleft%28y_i-%5Cbar%7By%7D%5Cright%29)\n",
    "协方差矩阵为\n",
    "![Image of Yaktocat](https://www.zhihu.com/equation?tex=%5CSigma%3D%5Cleft%5B+%5Cbegin%7Barray%7D%7Bccc%7D%5Csigma%28%7Bx_1%7D%2C%7Bx_1%7D%29+%26+%5Ccdots+%26+%5Csigma%5Cleft%28x_1%2Cx_d%5Cright%29+%5C%5C+%5Cvdots+%26+%5Cddots+%26+%5Cvdots+%5C%5C+%5Csigma%5Cleft%28x_d%2Cx_1%5Cright%29+%26+%5Ccdots+%26+%5Csigma%28%7Bx_d%7D%2C%7Bx_d%7D%29+%5C%5C+%5Cend%7Barray%7D+%5Cright%5D%5Cin%5Cmathbb%7BR%7D%5E%7Bd%5Ctimes+d%7D)\n",
    "     其中，对角线上的元素为各个随机变量的方差，非对角线上的元素为两两随机变量之间的协方差，根据协方差的定义，我们可以认定：矩阵 ∑ 为对称矩阵(symmetric matrix)，其大小为d×d 。\n",
    "\n",
    "协方差矩阵计算各维度之间的相关性由于样本特征均值白化后为0，各特征方差一样，计算得到的协方差矩阵，其中元素的值越大，则说明对应下标的特征之间相关性越高。\n",
    "\n",
    "样本协方差矩阵作为中心点的样本大小所规范化的输入属性向量的成对内积给出\n",
    "\n",
    "根据课本公式2.30计算协方差矩阵内积\n",
    "![image.png](2.30.png)"
   ]
  },
  {
   "cell_type": "code",
   "execution_count": 50,
   "metadata": {},
   "outputs": [
    {
     "name": "stdout",
     "output_type": "stream",
     "text": [
      "          fLength      fWidth     fSize     fConc    fConc1       fAsym  \\\n",
      "0      -24.453454   -6.178866 -0.180117  0.011473 -0.016457   32.032145   \n",
      "1      -21.646554  -10.457466 -0.306517  0.149973  0.162643   30.603945   \n",
      "2      108.801846  113.850034  1.236183 -0.342927 -0.195957  121.072745   \n",
      "3      -29.432954  -12.608166 -0.486517  0.234373  0.177543   31.542445   \n",
      "4       21.886046    8.739534  0.336083 -0.063527 -0.031457   -1.195955   \n",
      "...           ...         ...       ...       ...       ...         ...   \n",
      "19015  -31.865554  -11.263966 -0.208917  0.205373  0.178743   19.593545   \n",
      "19016  -24.304954  -15.478966 -0.557817  0.154773  0.063743   41.413345   \n",
      "19017   22.195346   25.349534  0.623283 -0.238627 -0.159757   -5.024355   \n",
      "19018   67.263346   54.720834  1.168883 -0.285927 -0.146357   10.136045   \n",
      "19019  133.931246   30.820434  0.384283 -0.092727 -0.060757 -162.980755   \n",
      "\n",
      "          fM3Long   fM3Trans     fAlpha       fDist  \n",
      "0       11.465455  -8.452426  12.446293 -111.935226  \n",
      "1       13.278255 -10.207126 -21.284807   11.442974  \n",
      "2      -75.403545 -45.465726  49.314293   62.969974  \n",
      "3      -17.008845  -7.401026 -17.196707  -77.081026  \n",
      "4       18.006955  21.589574 -22.997707  162.643974  \n",
      "...           ...        ...        ...         ...  \n",
      "19015    0.978955   2.626874 -25.222807  -86.992226  \n",
      "19016    2.639755  -3.212926  59.151793   53.637974  \n",
      "19017   30.510655  -9.715926   2.652993   62.698574  \n",
      "19018 -104.067945 -64.088626  57.041693  214.498574  \n",
      "19019 -179.001345  31.225774  25.085293   78.499374  \n",
      "\n",
      "[19020 rows x 10 columns]\n"
     ]
    },
    {
     "data": {
      "text/plain": [
       "array([[ 1.79468657e+03,  5.98832056e+02,  1.40634899e+01,\n",
       "        -4.88673783e+00, -2.80023307e+00, -9.24385500e+02,\n",
       "        -2.58713552e+02,  1.18133866e+01, -9.70630726e+00,\n",
       "         1.32479447e+03],\n",
       "       [ 5.98832056e+02,  3.36560086e+02,  6.22077467e+00,\n",
       "        -2.04502933e+00, -1.17816446e+00, -2.89957100e+02,\n",
       "        -1.64885064e+02,  1.51852884e+01,  3.16350305e+01,\n",
       "         4.61761921e+02],\n",
       "       [ 1.40634899e+01,  6.22077467e+00,  2.23337740e-01,\n",
       "        -7.35072146e-02, -4.22410108e-02, -4.47284297e+00,\n",
       "         2.29341395e+00,  1.52113339e-01, -2.30280376e+00,\n",
       "         1.54346558e+01],\n",
       "       [-4.88673783e+00, -2.04502933e+00, -7.35072146e-02,\n",
       "         3.34188897e-02,  1.97252425e-02,  1.21513100e+00,\n",
       "        -1.13646775e+00, -4.30002400e-02,  1.12267849e+00,\n",
       "        -4.48542469e+00],\n",
       "       [-2.80023307e+00, -1.17816446e+00, -4.22410108e-02,\n",
       "         1.97252425e-02,  1.22119946e-02,  6.55298229e-01,\n",
       "        -6.69353952e-01, -2.52377277e-02,  6.62872326e-01,\n",
       "        -2.51566226e+00],\n",
       "       [-9.24385500e+02, -2.89957100e+02, -4.47284297e+00,\n",
       "         1.21513100e+00,  6.55298229e-01,  3.50517348e+03,\n",
       "         8.27439241e+02,  3.14776536e+00, -8.60618247e+01,\n",
       "        -9.14642631e+02],\n",
       "       [-2.58713552e+02, -1.64885064e+02,  2.29341395e+00,\n",
       "        -1.13646775e+00, -6.69353952e-01,  8.27439241e+02,\n",
       "         2.60087529e+03, -1.82654002e+01, -2.47972042e+02,\n",
       "         1.41107736e+02],\n",
       "       [ 1.18133866e+01,  1.51852884e+01,  1.52113339e-01,\n",
       "        -4.30002400e-02, -2.52377277e-02,  3.14776536e+00,\n",
       "        -1.82654002e+01,  4.33759406e+02,  2.53290106e+00,\n",
       "         1.77842628e+01],\n",
       "       [-9.70630726e+00,  3.16350305e+01, -2.30280376e+00,\n",
       "         1.12267849e+00,  6.62872326e-01, -8.60618247e+01,\n",
       "        -2.47972042e+02,  2.53290106e+00,  6.81363178e+02,\n",
       "        -4.30230626e+02],\n",
       "       [ 1.32479447e+03,  4.61761921e+02,  1.54346558e+01,\n",
       "        -4.48542469e+00, -2.51566226e+00, -9.14642631e+02,\n",
       "         1.41107736e+02,  1.77842628e+01, -4.30230626e+02,\n",
       "         5.58454635e+03]])"
      ]
     },
     "execution_count": 50,
     "metadata": {},
     "output_type": "execute_result"
    }
   ],
   "source": [
    "centrdf = df-m   #数据集中心化\n",
    "print(centrdf)\n",
    "np.dot(centrdf.T,centrdf)/len(centrdf)"
   ]
  },
  {
   "cell_type": "markdown",
   "metadata": {},
   "source": [
    "# 样本协方差矩阵外积\n",
    "根据教材公式2.31计算外积\n",
    "![image.png](2.31.png)\n",
    "样本协方差矩阵也可以写成作为每个中心点的外积得到的秩1矩阵的和"
   ]
  },
  {
   "cell_type": "code",
   "execution_count": 51,
   "metadata": {
    "scrolled": false
   },
   "outputs": [
    {
     "name": "stdout",
     "output_type": "stream",
     "text": [
      "[[ 1.79468657e+03  5.98832056e+02  1.40634899e+01 -4.88673783e+00\n",
      "  -2.80023307e+00 -9.24385500e+02 -2.58713552e+02  1.18133866e+01\n",
      "  -9.70630726e+00  1.32479447e+03]\n",
      " [ 5.98832056e+02  3.36560086e+02  6.22077467e+00 -2.04502933e+00\n",
      "  -1.17816446e+00 -2.89957100e+02 -1.64885064e+02  1.51852884e+01\n",
      "   3.16350305e+01  4.61761921e+02]\n",
      " [ 1.40634899e+01  6.22077467e+00  2.23337740e-01 -7.35072146e-02\n",
      "  -4.22410108e-02 -4.47284297e+00  2.29341395e+00  1.52113339e-01\n",
      "  -2.30280376e+00  1.54346558e+01]\n",
      " [-4.88673783e+00 -2.04502933e+00 -7.35072146e-02  3.34188897e-02\n",
      "   1.97252425e-02  1.21513100e+00 -1.13646775e+00 -4.30002400e-02\n",
      "   1.12267849e+00 -4.48542469e+00]\n",
      " [-2.80023307e+00 -1.17816446e+00 -4.22410108e-02  1.97252425e-02\n",
      "   1.22119946e-02  6.55298229e-01 -6.69353952e-01 -2.52377277e-02\n",
      "   6.62872326e-01 -2.51566226e+00]\n",
      " [-9.24385500e+02 -2.89957100e+02 -4.47284297e+00  1.21513100e+00\n",
      "   6.55298229e-01  3.50517348e+03  8.27439241e+02  3.14776536e+00\n",
      "  -8.60618247e+01 -9.14642631e+02]\n",
      " [-2.58713552e+02 -1.64885064e+02  2.29341395e+00 -1.13646775e+00\n",
      "  -6.69353952e-01  8.27439241e+02  2.60087529e+03 -1.82654002e+01\n",
      "  -2.47972042e+02  1.41107736e+02]\n",
      " [ 1.18133866e+01  1.51852884e+01  1.52113339e-01 -4.30002400e-02\n",
      "  -2.52377277e-02  3.14776536e+00 -1.82654002e+01  4.33759406e+02\n",
      "   2.53290106e+00  1.77842628e+01]\n",
      " [-9.70630726e+00  3.16350305e+01 -2.30280376e+00  1.12267849e+00\n",
      "   6.62872326e-01 -8.60618247e+01 -2.47972042e+02  2.53290106e+00\n",
      "   6.81363178e+02 -4.30230626e+02]\n",
      " [ 1.32479447e+03  4.61761921e+02  1.54346558e+01 -4.48542469e+00\n",
      "  -2.51566226e+00 -9.14642631e+02  1.41107736e+02  1.77842628e+01\n",
      "  -4.30230626e+02  5.58454635e+03]]\n"
     ]
    }
   ],
   "source": [
    "#np.outer(centrdf.T,centrdf)\n",
    "# print(centrdf.iloc[i])\n",
    "# print(centrdf.values)\n",
    "centrarr = centrdf.values  #转化为np的array\n",
    "outer = 0\n",
    "for i in range(len(centrarr)):\n",
    "    outer = outer +centrarr[i].reshape(len(centrarr[0]),1)*centrarr[i]\n",
    "    \n",
    "print(outer/len(centrarr))"
   ]
  },
  {
   "cell_type": "markdown",
   "metadata": {},
   "source": [
    "# 计算属性间相关性与散点图\n",
    "通过计算居中属性向量之间的角度余弦计算属性1和属性2之间的相关性。\n",
    "\n",
    "余弦相似度用向量空间中两个向量夹角的余弦值作为衡量两个个体间差异的大小。余弦值越接近1，就表明夹角越接近0度，也就是两个向量越相似，这就叫\"余弦相似性\"。\n",
    "![Image of Yaktocat](https://images2018.cnblogs.com/blog/1129576/201803/1129576-20180321205209877-1584135356.png)\n",
    "\n",
    "通过余弦公式计算，余弦值为0.7705120396837165\n",
    "\n",
    "可以得出结论：属性1和属性2较为相关\n",
    "\n",
    "将属性1 flength 作为横坐标\n",
    "属性2 fWidth 作为纵坐标画出散点图"
   ]
  },
  {
   "cell_type": "code",
   "execution_count": 59,
   "metadata": {},
   "outputs": [
    {
     "name": "stdout",
     "output_type": "stream",
     "text": [
      "0.7705120396837165\n"
     ]
    },
    {
     "data": {
      "text/plain": [
       "<matplotlib.axes._subplots.AxesSubplot at 0x166a3b26940>"
      ]
     },
     "execution_count": 59,
     "metadata": {},
     "output_type": "execute_result"
    },
    {
     "data": {
      "image/png": "[encoded data removed]",
      "text/plain": [
       "<Figure size 432x288 with 1 Axes>"
      ]
     },
     "metadata": {
      "needs_background": "light"
     },
     "output_type": "display_data"
    }
   ],
   "source": [
    "#计算夹角余弦\n",
    "print(centrarr.T[0].dot(centrarr.T[1])/(np.linalg.norm(centrarr.T[0]) * np.linalg.norm(centrarr.T[1])))\n",
    "centrdf.plot(x='fLength', y='fWidth', kind='scatter')"
   ]
  },
  {
   "cell_type": "markdown",
   "metadata": {},
   "source": [
    "# 正态分布概率密度函数\n",
    "## 概率密度函数\n",
    "对于一维实随机变量X，设它的累积分布函数是FX(x)。如果存在可测函数fX(x)，满足：\n",
    "\n",
    "![Image of Yaktocat](https://wiki.mbalib.com/w/images/math/a/8/3/a8309e31abdb0085be755bb1eced19e5.png)\n",
    "　　那么X是一个连续型随机变量，并且fX(x)是它的概率密度函数。\n",
    " ## 正态分布\n",
    "  正态分布是一种概率分布。正态分布是具有两个参数μ和σ2的连续型随机变量的分布，第一参数μ是遵从正态分布的随机变量的均值，第二个参数σ2是此随机变量的方差，所以正态分布记作N(μ，σ2 )。遵从正态分布的随机变量的概率规律为取 μ邻近的值的概率大 ，而取离μ越远的值的概率越小；σ越小，分布越集中在μ附近，σ越大，分布越分散。正态分布的密度函数的特点是：关于μ对称，在μ处达到最大值，在正（负）无穷远处取值为0，在μ±σ处有拐点。它的形状是中间高两边低 ，图像是一条位于x 轴上方的钟形曲线。当μ＝0，σ2 ＝1时，称为标准正态分布，记为N（0，1）。μ维随机向量具有类似的概率规律时，称此随机向量遵从多维正态分布。\n",
    "  \n",
    "  正态分布的主要特征\n",
    "  \n",
    "　　1、集中性：正态曲线的高峰位于正中央，即均数所在的位置。\n",
    "\n",
    "　　2、对称性：正态曲线以均数为中心，左右对称，曲线两端永远不与横轴相交。\n",
    "\n",
    "　　3、均匀变动性：正态曲线由均数所在处开始，分别向左右两侧逐渐均匀下降。\n",
    "\n",
    "　　4、正态分布有两个参数，即均数μ和标准差σ，可记作N（μ，σ）：均数μ决定正态曲线的中心位置；标准差σ决定正态曲线的陡峭或扁平程度。σ越小，曲线越陡峭；σ越大，曲线越扁平。\n",
    "\n",
    "　　5、u变换：为了便于描述和应用，常将正态变量作数据转换。\n",
    "\n",
    "正态分布的概率密度函数：\n",
    "![Image of Yaktocat](https://private.codecogs.com/gif.latex?f%28x%29%20%3D%20%5Cfrac%7B1%7D%7B%5Csqrt%7B2%5Cpi%7D%5Csigma%7Dexp%28-%5Cfrac%7B%28x-%5Cmu%29%5E2%29%7D%7B2%5Csigma%20%5E%7B2%7D%7D%29)"
   ]
  },
  {
   "cell_type": "code",
   "execution_count": 71,
   "metadata": {},
   "outputs": [
    {
     "name": "stdout",
     "output_type": "stream",
     "text": [
      "53.25015392744498 42.36374123586791\n"
     ]
    },
    {
     "data": {
      "image/png": "[encoded data removed]",
      "text/plain": [
       "<Figure size 432x288 with 1 Axes>"
      ]
     },
     "metadata": {
      "needs_background": "light"
     },
     "output_type": "display_data"
    }
   ],
   "source": [
    "import matplotlib.pyplot as plt\n",
    "from scipy.stats import norm\n",
    "x = df.iloc[:,0] #提取第一列的 \n",
    "mu = np.mean(x) #计算均值 \n",
    "sigma = np.std(x) \n",
    "print(mu,sigma)\n",
    "\n",
    "y = norm.pdf(bins, mu, sigma)#拟合一条最佳正态分布曲线y \n",
    "plt.plot(bins, y, 'r-') #绘制曲线 \n",
    "plt.xlabel('fLength') \n",
    "plt.ylabel('Probability') \n",
    "plt.title(r' $\\mu=53.25$,$\\sigma=42.37$')\n",
    "plt.show()"
   ]
  },
  {
   "cell_type": "markdown",
   "metadata": {},
   "source": [
    "# 计算各属性方差\n",
    "方差是各个数据与其算术平均数的离差平方和的平均数，通常以σ2表示。方差的计量单位和量纲不便于从经济意义上进行解释，所以实际统计工作中多用方差的算术平方根——标准差来测度统计数据的差异程度。\n",
    "![Image of Yaktocat](https://wiki.mbalib.com/w/images/math/7/6/c/76ca7ca681a12b49e7a410606a4691f9.png)\n",
    "\n",
    "fConc1方差最小为0.012211994579486615\n",
    "fDist方差最大为5584.546352841387"
   ]
  },
  {
   "cell_type": "code",
   "execution_count": 102,
   "metadata": {},
   "outputs": [
    {
     "name": "stdout",
     "output_type": "stream",
     "text": [
      "[1794.6865714995752, 336.56008561159445, 0.223337739867947, 0.03341888966513579, 0.012211994579486615, 3505.1734772218742, 2600.8752860087543, 433.7594064647074, 681.3631783542794, 5584.546352841387]\n",
      "最小方差为0.012211994579486615最大方差为5584.546352841387\n"
     ]
    }
   ],
   "source": [
    "d = df.values \n",
    "list = []\n",
    "for i in range(10):\n",
    "    list.append(np.var(d.T[i]))\n",
    "print(list)\n",
    "print(\"最小方差为\" + str(min(list)) + \"最大方差为\" + str(max(list)))"
   ]
  },
  {
   "cell_type": "markdown",
   "metadata": {},
   "source": [
    "# 计算属性间的协方差\n",
    "协方差用于衡量两个变量的总体误差。而方差是协方差的一种特殊情况，即当两个变量是相同的情况。\n",
    "协方差定义为：\n",
    "![Image of Yaktocat](https://wiki.mbalib.com/w/images/math/5/5/d/55dab8cc069454a52205d8f171828296.png)\n",
    "如果两个变量的变化趋势一致，也就是说如果其中一个大于自身的期望值，另外一个也大于自身的期望值，那么两个变量之间的协方差就是正值。\n",
    "\n",
    "如果两个变量的变化趋势相反，即其中一个大于自身的期望值，另外一个却小于自身的期望值，那么两个变量之间的协方差就是负值。\n",
    "\n",
    "如果X与Y是统计独立的，那么二者之间的协方差就是0。\n",
    "\n",
    "对于随机变量序列X1, ..., Xn 与 Y1, ..., Ym，有\n",
    "  \n",
    " ![Image of Yaktocat](https://wiki.mbalib.com/w/images/math/a/a/c/aac97b153d8a63d92fd6f14b83b2dc5f.png)\n",
    " \n",
    "遍历每两个属性，求协方差。排序取出最大与最小。\n",
    "\n",
    "协方差最小的一对属性是:('1&6', -924.4341029748747)即fAsym与fLength\n",
    "\n",
    "协方差最大的一对属性是:('1&10', 1324.8641308721585)即fDist与fLength"
   ]
  },
  {
   "cell_type": "code",
   "execution_count": 124,
   "metadata": {},
   "outputs": [
    {
     "name": "stdout",
     "output_type": "stream",
     "text": [
      "[('1&6', -924.4341029748747), ('6&10', -914.6907215651297), ('9&10', -430.25324691056437), ('2&6', -289.97234586739484), ('1&7', -258.72715463806395), ('7&9', -247.98507999659464), ('2&7', -164.8937339268676), ('6&9', -86.06634976218909), ('7&8', -18.26636058908067), ('1&9', -9.70681761115193), ('1&4', -4.88699477113083), ('4&10', -4.485660533859183), ('3&6', -4.47307814581009), ('1&5', -2.8003803018246467), ('5&10', -2.5157945329350415), ('3&9', -2.302924838678903), ('2&4', -2.045136852452629), ('2&5', -1.1782264106173312), ('4&7', -1.1365275077220534), ('5&7', -0.6693891455240298), ('3&4', -0.07351107953695078), ('4&8', -0.04300250089937431), ('3&5', -0.042243231785142256), ('5&8', -0.02523905469779427), ('4&5', 0.01972627965305205), ('3&8', 0.1521213368750358), ('5&6', 0.6553326836685897), ('5&9', 0.6629071788408388), ('4&9', 1.122737514956724), ('4&6', 1.2151948922541522), ('3&7', 2.29353453887283), ('8&9', 2.533034241728448), ('6&8', 3.1479308646072193), ('2&3', 6.221101755650535), ('1&8', 11.814007753162919), ('1&3', 14.064229327525265), ('2&8', 15.186086869263743), ('3&10', 15.435467311725729), ('8&10', 17.78519788590531), ('2&9', 31.63669383517063), ('7&10', 141.1151552084855), ('2&10', 461.78620038604373), ('1&2', 598.8635421653951), ('6&7', 827.48274684463), ('1&10', 1324.8641308721585)]\n",
      "协方差最小的一对属性是:('1&6', -924.4341029748747)\n",
      "协方差最大的一对属性是:('1&10', 1324.8641308721585)\n"
     ]
    }
   ],
   "source": [
    "dict = {}\n",
    "for i in range(9):\n",
    "    for j in range(i + 1, 10):\n",
    "        k = str(i + 1) + '&' + str(j + 1)\n",
    "        dict[k] = np.cov(d.T[i],d.T[j])[0][1]\n",
    "\n",
    "d_order = sorted(dict.items(),key=lambda x:x[1])\n",
    "print(d_order)\n",
    "print(\"协方差最小的一对属性是:\" + str(d_order[0]))\n",
    "print(\"协方差最大的一对属性是:\" + str(d_order[-1]))\n",
    "\n",
    "\n"
   ]
  },
  {
   "cell_type": "markdown",
   "metadata": {},
   "source": [
    "# 参考资料\n",
    "https://www.cnblogs.com/dsgcBlogs/p/8619566.html\n",
    "\n",
    "https://zhuanlan.zhihu.com/p/37609917\n",
    "\n",
    "https://www.zhihu.com/question/37069477\n",
    "\n",
    "https://www.zhihu.com/question/24283387\n",
    "\n",
    "https://blog.csdn.net/liuweiyuxiang/article/details/77559781\n",
    "\n",
    "https://blog.csdn.net/fisherming/article/details/80236631\n",
    "\n",
    "https://wiki.mbalib.com/wiki/%E5%8D%8F%E6%96%B9%E5%B7%AE"
   ]
  }
 ],
 "metadata": {
  "kernelspec": {
   "display_name": "Python 3",
   "language": "python",
   "name": "python3"
  },
  "language_info": {
   "codemirror_mode": {
    "name": "ipython",
    "version": 3
   },
   "file_extension": ".py",
   "mimetype": "text/x-python",
   "name": "python",
   "nbconvert_exporter": "python",
   "pygments_lexer": "ipython3",
   "version": "3.7.1"
  }
 },
 "nbformat": 4,
 "nbformat_minor": 2
}
